{
  "nbformat": 4,
  "nbformat_minor": 0,
  "metadata": {
    "colab": {
      "name": "Day-1.ipynb",
      "provenance": [],
      "collapsed_sections": []
    },
    "kernelspec": {
      "name": "python3",
      "display_name": "Python 3"
    },
    "language_info": {
      "name": "python"
    }
  },
  "cells": [
    {
      "cell_type": "markdown",
      "metadata": {
        "id": "VolKVofE2t1J"
      },
      "source": [
        "# Entry Test"
      ]
    },
    {
      "cell_type": "code",
      "metadata": {
        "colab": {
          "base_uri": "https://localhost:8080/"
        },
        "id": "yLP_-6havhTG",
        "outputId": "d31c0d5b-8990-40b3-b646-25d290b99b7a"
      },
      "source": [
        "score = 67\n",
        "if score < 80 and score > 70:\n",
        "    print(\"A\")\n",
        "elif score < 90 or score > 80:\n",
        "    print(\"B\")\n",
        "elif score > 60:\n",
        "    print(\"C\")\n",
        "else:\n",
        "    print(\"D\")"
      ],
      "execution_count": 1,
      "outputs": [
        {
          "output_type": "stream",
          "text": [
            "B\n"
          ],
          "name": "stdout"
        }
      ]
    },
    {
      "cell_type": "code",
      "metadata": {
        "colab": {
          "base_uri": "https://localhost:8080/"
        },
        "id": "wgoYF1ftwg-O",
        "outputId": "17b056b3-1ccf-4830-b771-30a2ed434d20"
      },
      "source": [
        "def foo(a, b=4, c=6):\n",
        "    print(a, b, c)\n",
        " \n",
        "foo(20, c=12)"
      ],
      "execution_count": 2,
      "outputs": [
        {
          "output_type": "stream",
          "text": [
            "20 4 12\n"
          ],
          "name": "stdout"
        }
      ]
    },
    {
      "cell_type": "code",
      "metadata": {
        "colab": {
          "base_uri": "https://localhost:8080/"
        },
        "id": "zg7JqVDJwhQE",
        "outputId": "1571cb16-9044-4ee8-ca61-703025d513cd"
      },
      "source": [
        "def all_aboard(a, *args, **kw): \n",
        "    print(a, args, kw)\n",
        " \n",
        "all_aboard(4, 7, 3, 0, x=10, y=64)"
      ],
      "execution_count": 3,
      "outputs": [
        {
          "output_type": "stream",
          "text": [
            "4 (7, 3, 0) {'x': 10, 'y': 64}\n"
          ],
          "name": "stdout"
        }
      ]
    },
    {
      "cell_type": "markdown",
      "metadata": {
        "id": "lyCxFgI32y2N"
      },
      "source": [
        "Day 1"
      ]
    },
    {
      "cell_type": "code",
      "metadata": {
        "colab": {
          "base_uri": "https://localhost:8080/"
        },
        "id": "AKo_RXdg4kSB",
        "outputId": "efb32f27-3f30-42ab-c2d8-8afeeedfa85d"
      },
      "source": [
        "print(\"Hello world!\\nHello world!\\nHello world!\")"
      ],
      "execution_count": 5,
      "outputs": [
        {
          "output_type": "stream",
          "text": [
            "Hello world!\n",
            "Hello world!\n",
            "Hello world!\n"
          ],
          "name": "stdout"
        }
      ]
    },
    {
      "cell_type": "code",
      "metadata": {
        "colab": {
          "base_uri": "https://localhost:8080/"
        },
        "id": "w31B4-eM4wid",
        "outputId": "751ca599-e6e8-4051-9c38-37e4950b6f2c"
      },
      "source": [
        "print(\"Hello\" + \" Pruthvi\")"
      ],
      "execution_count": 8,
      "outputs": [
        {
          "output_type": "stream",
          "text": [
            "Hello Pruthvi\n"
          ],
          "name": "stdout"
        }
      ]
    },
    {
      "cell_type": "code",
      "metadata": {
        "id": "tMLgAPZP-Uxw"
      },
      "source": [
        "print(\"Hello \" + input(\"What is your name?\"))"
      ],
      "execution_count": null,
      "outputs": []
    },
    {
      "cell_type": "code",
      "metadata": {
        "id": "QJTiM7b349e2"
      },
      "source": [
        "print(len(input(\"What is your name?\")))"
      ],
      "execution_count": null,
      "outputs": []
    }
  ]
}